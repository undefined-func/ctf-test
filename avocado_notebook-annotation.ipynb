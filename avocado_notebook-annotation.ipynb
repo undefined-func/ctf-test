{
 "cells": [
  {
   "cell_type": "markdown",
   "metadata": {},
   "source": [
    "# Avocado Data Analysis Notebook\n",
    "ALT-TAB LABS LLP &copy; 2020 All Rights Reserved\n"
   ]
  },
  {
   "cell_type": "code",
   "execution_count": 1,
   "metadata": {},
   "outputs": [
    {
     "data": {
      "text/plain": [
       "['.DS_Store',\n",
       " 'avocado_notebook.ipynb',\n",
       " 'avocado-format.png',\n",
       " '__pycache__',\n",
       " 'avocado_notebook-annotation.ipynb',\n",
       " 'pyctfsglib.py',\n",
       " 'avocado-test.csv',\n",
       " '.ipynb_checkpoints',\n",
       " 'avocado-submission.csv',\n",
       " 'avocado_notebook-experiment.ipynb',\n",
       " 'avocado-train.csv']"
      ]
     },
     "execution_count": 1,
     "metadata": {},
     "output_type": "execute_result"
    }
   ],
   "source": [
    "# show files in current directory\n",
    "import os\n",
    "os.listdir()"
   ]
  },
  {
   "cell_type": "code",
   "execution_count": 2,
   "metadata": {},
   "outputs": [],
   "source": [
    "# load csvs\n",
    "import pandas as pd\n",
    "#MyDataFrame = pd.read_csv('PATH_TO_CSV.csv', index_col='id')\n",
    "AvoTrain = pd.read_csv('avocado-train.csv', index_col='id')"
   ]
  },
  {
   "cell_type": "code",
   "execution_count": 3,
   "metadata": {
    "scrolled": true
   },
   "outputs": [
    {
     "data": {
      "text/html": [
       "<div>\n",
       "<style scoped>\n",
       "    .dataframe tbody tr th:only-of-type {\n",
       "        vertical-align: middle;\n",
       "    }\n",
       "\n",
       "    .dataframe tbody tr th {\n",
       "        vertical-align: top;\n",
       "    }\n",
       "\n",
       "    .dataframe thead th {\n",
       "        text-align: right;\n",
       "    }\n",
       "</style>\n",
       "<table border=\"1\" class=\"dataframe\">\n",
       "  <thead>\n",
       "    <tr style=\"text-align: right;\">\n",
       "      <th></th>\n",
       "      <th>DataBatch</th>\n",
       "      <th>Date</th>\n",
       "      <th>TotalVolume</th>\n",
       "      <th>4046</th>\n",
       "      <th>4225</th>\n",
       "      <th>4770</th>\n",
       "      <th>TotalBags</th>\n",
       "      <th>SmallBags</th>\n",
       "      <th>LargeBags</th>\n",
       "      <th>XLargeBags</th>\n",
       "      <th>type</th>\n",
       "      <th>region</th>\n",
       "      <th>AveragePrice</th>\n",
       "    </tr>\n",
       "    <tr>\n",
       "      <th>id</th>\n",
       "      <th></th>\n",
       "      <th></th>\n",
       "      <th></th>\n",
       "      <th></th>\n",
       "      <th></th>\n",
       "      <th></th>\n",
       "      <th></th>\n",
       "      <th></th>\n",
       "      <th></th>\n",
       "      <th></th>\n",
       "      <th></th>\n",
       "      <th></th>\n",
       "      <th></th>\n",
       "    </tr>\n",
       "  </thead>\n",
       "  <tbody>\n",
       "    <tr>\n",
       "      <th>0</th>\n",
       "      <td>7</td>\n",
       "      <td>2016-11-06</td>\n",
       "      <td>183542.31</td>\n",
       "      <td>98949.98</td>\n",
       "      <td>22891.61</td>\n",
       "      <td>95.00</td>\n",
       "      <td>61605.72</td>\n",
       "      <td>43571.99</td>\n",
       "      <td>17499.01</td>\n",
       "      <td>534.72</td>\n",
       "      <td>conventional</td>\n",
       "      <td>NewOrleansMobile</td>\n",
       "      <td>1.49</td>\n",
       "    </tr>\n",
       "    <tr>\n",
       "      <th>1</th>\n",
       "      <td>24</td>\n",
       "      <td>2017-07-16</td>\n",
       "      <td>224434.92</td>\n",
       "      <td>42951.31</td>\n",
       "      <td>120360.02</td>\n",
       "      <td>131.85</td>\n",
       "      <td>60991.74</td>\n",
       "      <td>53141.81</td>\n",
       "      <td>3621.04</td>\n",
       "      <td>4228.89</td>\n",
       "      <td>conventional</td>\n",
       "      <td>HarrisburgScranton</td>\n",
       "      <td>1.38</td>\n",
       "    </tr>\n",
       "    <tr>\n",
       "      <th>2</th>\n",
       "      <td>51</td>\n",
       "      <td>2015-01-04</td>\n",
       "      <td>3846.69</td>\n",
       "      <td>1500.15</td>\n",
       "      <td>938.35</td>\n",
       "      <td>0.00</td>\n",
       "      <td>1408.19</td>\n",
       "      <td>1071.35</td>\n",
       "      <td>336.84</td>\n",
       "      <td>0.00</td>\n",
       "      <td>organic</td>\n",
       "      <td>Atlanta</td>\n",
       "      <td>1.76</td>\n",
       "    </tr>\n",
       "    <tr>\n",
       "      <th>3</th>\n",
       "      <td>22</td>\n",
       "      <td>2015-07-26</td>\n",
       "      <td>91825.07</td>\n",
       "      <td>1679.28</td>\n",
       "      <td>45615.48</td>\n",
       "      <td>741.77</td>\n",
       "      <td>43788.54</td>\n",
       "      <td>43788.54</td>\n",
       "      <td>0.00</td>\n",
       "      <td>0.00</td>\n",
       "      <td>conventional</td>\n",
       "      <td>BuffaloRochester</td>\n",
       "      <td>1.39</td>\n",
       "    </tr>\n",
       "    <tr>\n",
       "      <th>4</th>\n",
       "      <td>50</td>\n",
       "      <td>2015-01-11</td>\n",
       "      <td>54644.32</td>\n",
       "      <td>1491.88</td>\n",
       "      <td>33759.12</td>\n",
       "      <td>1325.17</td>\n",
       "      <td>18068.15</td>\n",
       "      <td>12165.94</td>\n",
       "      <td>5902.21</td>\n",
       "      <td>0.00</td>\n",
       "      <td>conventional</td>\n",
       "      <td>Pittsburgh</td>\n",
       "      <td>1.54</td>\n",
       "    </tr>\n",
       "  </tbody>\n",
       "</table>\n",
       "</div>"
      ],
      "text/plain": [
       "    DataBatch        Date  TotalVolume      4046       4225     4770  \\\n",
       "id                                                                     \n",
       "0           7  2016-11-06    183542.31  98949.98   22891.61    95.00   \n",
       "1          24  2017-07-16    224434.92  42951.31  120360.02   131.85   \n",
       "2          51  2015-01-04      3846.69   1500.15     938.35     0.00   \n",
       "3          22  2015-07-26     91825.07   1679.28   45615.48   741.77   \n",
       "4          50  2015-01-11     54644.32   1491.88   33759.12  1325.17   \n",
       "\n",
       "    TotalBags  SmallBags  LargeBags  XLargeBags          type  \\\n",
       "id                                                              \n",
       "0    61605.72   43571.99   17499.01      534.72  conventional   \n",
       "1    60991.74   53141.81    3621.04     4228.89  conventional   \n",
       "2     1408.19    1071.35     336.84        0.00       organic   \n",
       "3    43788.54   43788.54       0.00        0.00  conventional   \n",
       "4    18068.15   12165.94    5902.21        0.00  conventional   \n",
       "\n",
       "                region  AveragePrice  \n",
       "id                                    \n",
       "0     NewOrleansMobile          1.49  \n",
       "1   HarrisburgScranton          1.38  \n",
       "2              Atlanta          1.76  \n",
       "3     BuffaloRochester          1.39  \n",
       "4           Pittsburgh          1.54  "
      ]
     },
     "execution_count": 3,
     "metadata": {},
     "output_type": "execute_result"
    }
   ],
   "source": [
    "#View the data!\n",
    "AvoTrain.head()"
   ]
  },
  {
   "cell_type": "code",
   "execution_count": 4,
   "metadata": {},
   "outputs": [
    {
     "name": "stdout",
     "output_type": "stream",
     "text": [
      "<class 'pandas.core.frame.DataFrame'>\n",
      "Int64Index: 12774 entries, 0 to 12773\n",
      "Data columns (total 13 columns):\n",
      " #   Column        Non-Null Count  Dtype  \n",
      "---  ------        --------------  -----  \n",
      " 0   DataBatch     12774 non-null  int64  \n",
      " 1   Date          12774 non-null  object \n",
      " 2   TotalVolume   12774 non-null  float64\n",
      " 3   4046          12774 non-null  float64\n",
      " 4   4225          12774 non-null  float64\n",
      " 5   4770          12774 non-null  float64\n",
      " 6   TotalBags     12774 non-null  float64\n",
      " 7   SmallBags     12774 non-null  float64\n",
      " 8   LargeBags     12774 non-null  float64\n",
      " 9   XLargeBags    12774 non-null  float64\n",
      " 10  type          12774 non-null  object \n",
      " 11  region        12774 non-null  object \n",
      " 12  AveragePrice  12774 non-null  float64\n",
      "dtypes: float64(9), int64(1), object(3)\n",
      "memory usage: 1.4+ MB\n"
     ]
    }
   ],
   "source": [
    "#Get a general idea of missing values and data types\n",
    "\"\"\"\n",
    "We see that Date, type and region have the object dtype. These data are most likely categorical data. \n",
    "This can be verified by looking at the above table; they are all strings.\n",
    "\n",
    "Categorical data can be divided into 3 types:\n",
    "- Nominal : There is no order to it. E.g. Gender (Male is not more than female, vice versa)\n",
    "- Ordinal : There is a order to it. E.g. SES (Low, Mid, High)\n",
    "- Continuous : E.g. Date\n",
    "\n",
    "In this example, Date is continuous, while type and region are nominal.\n",
    "\"\"\"\n",
    "AvoTrain.info()"
   ]
  },
  {
   "cell_type": "code",
   "execution_count": 5,
   "metadata": {},
   "outputs": [
    {
     "data": {
      "image/png": "[encoded data removed]",
      "text/plain": [
       "<Figure size 864x432 with 2 Axes>"
      ]
     },
     "metadata": {
      "needs_background": "light"
     },
     "output_type": "display_data"
    }
   ],
   "source": [
    "#Get an idea of the correlation\n",
    "\"\"\"\n",
    "We can see from the plot that most features are not correlated with AveragePrice. \n",
    "However, the features are quite strongly correlated with one another.\n",
    "\"\"\"\n",
    "import matplotlib.pyplot as plt\n",
    "import seaborn as sns\n",
    "\n",
    "plt.figure(figsize=(12,6))\n",
    "sns.heatmap(AvoTrain.corr(),cmap='coolwarm',annot=True)\n",
    "plt.draw()"
   ]
  },
  {
   "cell_type": "code",
   "execution_count": 6,
   "metadata": {},
   "outputs": [
    {
     "name": "stdout",
     "output_type": "stream",
     "text": [
      "2\n",
      "54\n"
     ]
    }
   ],
   "source": [
    "# Clean Data\n",
    "# Tips and tricks dealing with categorical data: https://www.datacamp.com/community/tutorials/categorical-data\n",
    "# Type conversion in pandas: https://pandas.pydata.org/pandas-docs/stable/reference/api/pandas.DataFrame.astype.html\n",
    "\"\"\"\n",
    "We clean the data by doing the following:\n",
    "\n",
    "1. Drop (or fill) all rows with empty fields.\n",
    "\n",
    "2. Do some feature engineering on the categorical features:\n",
    "    - Convert NOMINAL data to dummy values\n",
    "        - We can also use one-hot encoding. OH encoding is usually better for small data range as \n",
    "          it is able to remove any correlation between the different states.\n",
    "          \n",
    "          In this case, OH encoding is not recommended as there are 54 unique\n",
    "          values for region. Doing OH encoding will lead to a great loss of dimensionality.\n",
    "    - Convert ORDINAL data to ordered values (E.g. {Low : 0, Mid : 1, Hi : 2})\n",
    "    - Convert CONTINUOUS data to numeric data\n",
    "    \n",
    "** For range data, we can split into start and end columns or take the average.\n",
    "\"\"\"\n",
    "import datetime as dt\n",
    "\n",
    "# Drops missing values \n",
    "AvoTrain = AvoTrain.dropna()\n",
    "\n",
    "# Convert strings to numbers\n",
    "\n",
    "# Convert date\n",
    "AvoTrain.Date = [dt.date.fromisoformat(x).toordinal() for x in AvoTrain.Date]\n",
    "\n",
    "# We can also convert date like this\n",
    "# df['Date']=pd.to_datetime(df['Date'])\n",
    "# df['Month']=df['Date'].apply(lambda x:x.month)\n",
    "# df['Day']=df['Date'].apply(lambda x:x.day)\n",
    "# df['Year']=df['Date'].apply(lambda x:x.year)\n",
    "# df.drop('Date',axis=1,inplace=True)\n",
    "\n",
    "# Convert type\n",
    "print(AvoTrain['type'].nunique()) #Number of unique values\n",
    "\n",
    "\n",
    "AvoTypes = {\n",
    "    \"conventional\": 0,\n",
    "    \"organic\": 1\n",
    "}\n",
    "AvoTrain.type = [AvoTypes[x] for x in AvoTrain.type]\n",
    "\n",
    "#Convert region\n",
    "print(AvoTrain['region'].nunique()) #Number of unique values\n",
    "\n",
    "#Inspect categorical data\n",
    "AvoRegion = {region: regionid for regionid, region in enumerate(set(AvoTrain.region))}\n",
    "\n",
    "AvoTrain.region = [AvoRegion[x] for x in AvoTrain.region]\n",
    "\n",
    "#We can also do this: (Only do this after continuous data and ordinal data have been converted)\n",
    "# AvoTrain = pd.get_dummies(AvoTrain)\n",
    "\n",
    "\"\"\"\n",
    "# FOR OH encoding\n",
    "from sklearn import *\n",
    "\n",
    "#_valid is predict data.\n",
    "\n",
    "# Apply one-hot encoder to each column with categorical data\n",
    "OH_encoder = preprocessing.OneHotEncoder(handle_unknown='ignore', sparse=False)\n",
    "OH_cols_train = pd.DataFrame(OH_encoder.fit_transform(X_train[object_cols]))\n",
    "OH_cols_valid = pd.DataFrame(OH_encoder.transform(X_valid[object_cols]))\n",
    "\n",
    "# One-hot encoding removed index; put it back\n",
    "OH_cols_train.index = X_train.index\n",
    "OH_cols_valid.index = X_valid.index\n",
    "\n",
    "# Remove categorical columns (will replace with one-hot encoding)\n",
    "num_X_train = X_train.drop(object_cols, axis=1)\n",
    "num_X_valid = X_valid.drop(object_cols, axis=1)\n",
    "\n",
    "# Add one-hot encoded columns to numerical features\n",
    "OH_X_train = pd.concat([num_X_train, OH_cols_train], axis=1)\n",
    "OH_X_valid = pd.concat([num_X_valid, OH_cols_valid], axis=1)\n",
    "\n",
    "\"\"\"\n",
    "\n",
    "\"\"\"\n",
    "#FOR RANGED DATA\n",
    "\n",
    "#START-END METHOD\n",
    "dummy_df_age = pd.DataFrame({'age': ['0-20', '20-40', '40-60','60-80']})\n",
    "dummy_df_age['start'], dummy_df_age['end'] = zip(*dummy_df_age['age'].map(lambda x: x.split('-')))\n",
    "\n",
    "#MEAN METHOD\n",
    "dummy_df_age = pd.DataFrame({'age': ['0-20', '20-40', '40-60','60-80']})\n",
    "\n",
    "def split_mean(x):\n",
    "    split_list = x.split('-')\n",
    "    mean = (float(split_list[0])+float(split_list[1]))/2\n",
    "    return mean\n",
    "\n",
    "dummy_df_age['age_mean'] = dummy_df_age['age'].apply(lambda x: split_mean(x))\n",
    "\"\"\"\n",
    "pass\n",
    "\n",
    "# Read more advanced ways to clean data\n",
    "# https://scikit-learn.org/stable/modules/generated/sklearn.preprocessing.LabelEncoder.html\n",
    "# https://stackoverflow.com/questions/24458645/label-encoding-across-multiple-columns-in-scikit-learn"
   ]
  },
  {
   "cell_type": "code",
   "execution_count": 7,
   "metadata": {},
   "outputs": [
    {
     "data": {
      "image/png": "[encoded data removed]",
      "text/plain": [
       "<Figure size 864x432 with 2 Axes>"
      ]
     },
     "metadata": {
      "needs_background": "light"
     },
     "output_type": "display_data"
    }
   ],
   "source": [
    "#Get an idea of the correlation again\n",
    "import matplotlib.pyplot as plt\n",
    "import seaborn as sns\n",
    "\n",
    "plt.figure(figsize=(12,6))\n",
    "sns.heatmap(AvoTrain.corr(),cmap='coolwarm',annot=True)\n",
    "plt.draw()"
   ]
  },
  {
   "cell_type": "code",
   "execution_count": 8,
   "metadata": {},
   "outputs": [],
   "source": [
    "# Select data for learning using above plot after cleaning\n",
    "features = [\"Date\", \"TotalVolume\", \"DataBatch\", \"type\", \"4046\", \"4225\", \"4770\", \"TotalBags\", \n",
    "            \"SmallBags\", \"LargeBags\", \"XLargeBags\", \"type\", \"region\"]\n",
    "\n",
    "X = AvoTrain[features] \n",
    "y = AvoTrain.AveragePrice"
   ]
  },
  {
   "cell_type": "code",
   "execution_count": 9,
   "metadata": {},
   "outputs": [
    {
     "data": {
      "text/html": [
       "<div>\n",
       "<style scoped>\n",
       "    .dataframe tbody tr th:only-of-type {\n",
       "        vertical-align: middle;\n",
       "    }\n",
       "\n",
       "    .dataframe tbody tr th {\n",
       "        vertical-align: top;\n",
       "    }\n",
       "\n",
       "    .dataframe thead th {\n",
       "        text-align: right;\n",
       "    }\n",
       "</style>\n",
       "<table border=\"1\" class=\"dataframe\">\n",
       "  <thead>\n",
       "    <tr style=\"text-align: right;\">\n",
       "      <th></th>\n",
       "      <th>Date</th>\n",
       "      <th>TotalVolume</th>\n",
       "      <th>DataBatch</th>\n",
       "      <th>type</th>\n",
       "      <th>4046</th>\n",
       "      <th>4225</th>\n",
       "      <th>4770</th>\n",
       "      <th>TotalBags</th>\n",
       "      <th>SmallBags</th>\n",
       "      <th>LargeBags</th>\n",
       "      <th>XLargeBags</th>\n",
       "      <th>type</th>\n",
       "      <th>region</th>\n",
       "    </tr>\n",
       "    <tr>\n",
       "      <th>id</th>\n",
       "      <th></th>\n",
       "      <th></th>\n",
       "      <th></th>\n",
       "      <th></th>\n",
       "      <th></th>\n",
       "      <th></th>\n",
       "      <th></th>\n",
       "      <th></th>\n",
       "      <th></th>\n",
       "      <th></th>\n",
       "      <th></th>\n",
       "      <th></th>\n",
       "      <th></th>\n",
       "    </tr>\n",
       "  </thead>\n",
       "  <tbody>\n",
       "    <tr>\n",
       "      <th>0</th>\n",
       "      <td>736274</td>\n",
       "      <td>183542.31</td>\n",
       "      <td>7</td>\n",
       "      <td>0</td>\n",
       "      <td>98949.98</td>\n",
       "      <td>22891.61</td>\n",
       "      <td>95.00</td>\n",
       "      <td>61605.72</td>\n",
       "      <td>43571.99</td>\n",
       "      <td>17499.01</td>\n",
       "      <td>534.72</td>\n",
       "      <td>0</td>\n",
       "      <td>4</td>\n",
       "    </tr>\n",
       "    <tr>\n",
       "      <th>1</th>\n",
       "      <td>736526</td>\n",
       "      <td>224434.92</td>\n",
       "      <td>24</td>\n",
       "      <td>0</td>\n",
       "      <td>42951.31</td>\n",
       "      <td>120360.02</td>\n",
       "      <td>131.85</td>\n",
       "      <td>60991.74</td>\n",
       "      <td>53141.81</td>\n",
       "      <td>3621.04</td>\n",
       "      <td>4228.89</td>\n",
       "      <td>0</td>\n",
       "      <td>10</td>\n",
       "    </tr>\n",
       "    <tr>\n",
       "      <th>2</th>\n",
       "      <td>735602</td>\n",
       "      <td>3846.69</td>\n",
       "      <td>51</td>\n",
       "      <td>1</td>\n",
       "      <td>1500.15</td>\n",
       "      <td>938.35</td>\n",
       "      <td>0.00</td>\n",
       "      <td>1408.19</td>\n",
       "      <td>1071.35</td>\n",
       "      <td>336.84</td>\n",
       "      <td>0.00</td>\n",
       "      <td>1</td>\n",
       "      <td>12</td>\n",
       "    </tr>\n",
       "    <tr>\n",
       "      <th>3</th>\n",
       "      <td>735805</td>\n",
       "      <td>91825.07</td>\n",
       "      <td>22</td>\n",
       "      <td>0</td>\n",
       "      <td>1679.28</td>\n",
       "      <td>45615.48</td>\n",
       "      <td>741.77</td>\n",
       "      <td>43788.54</td>\n",
       "      <td>43788.54</td>\n",
       "      <td>0.00</td>\n",
       "      <td>0.00</td>\n",
       "      <td>0</td>\n",
       "      <td>37</td>\n",
       "    </tr>\n",
       "    <tr>\n",
       "      <th>4</th>\n",
       "      <td>735609</td>\n",
       "      <td>54644.32</td>\n",
       "      <td>50</td>\n",
       "      <td>0</td>\n",
       "      <td>1491.88</td>\n",
       "      <td>33759.12</td>\n",
       "      <td>1325.17</td>\n",
       "      <td>18068.15</td>\n",
       "      <td>12165.94</td>\n",
       "      <td>5902.21</td>\n",
       "      <td>0.00</td>\n",
       "      <td>0</td>\n",
       "      <td>28</td>\n",
       "    </tr>\n",
       "  </tbody>\n",
       "</table>\n",
       "</div>"
      ],
      "text/plain": [
       "      Date  TotalVolume  DataBatch  type      4046       4225     4770  \\\n",
       "id                                                                       \n",
       "0   736274    183542.31          7     0  98949.98   22891.61    95.00   \n",
       "1   736526    224434.92         24     0  42951.31  120360.02   131.85   \n",
       "2   735602      3846.69         51     1   1500.15     938.35     0.00   \n",
       "3   735805     91825.07         22     0   1679.28   45615.48   741.77   \n",
       "4   735609     54644.32         50     0   1491.88   33759.12  1325.17   \n",
       "\n",
       "    TotalBags  SmallBags  LargeBags  XLargeBags  type  region  \n",
       "id                                                             \n",
       "0    61605.72   43571.99   17499.01      534.72     0       4  \n",
       "1    60991.74   53141.81    3621.04     4228.89     0      10  \n",
       "2     1408.19    1071.35     336.84        0.00     1      12  \n",
       "3    43788.54   43788.54       0.00        0.00     0      37  \n",
       "4    18068.15   12165.94    5902.21        0.00     0      28  "
      ]
     },
     "execution_count": 9,
     "metadata": {},
     "output_type": "execute_result"
    }
   ],
   "source": [
    "X.head()"
   ]
  },
  {
   "cell_type": "code",
   "execution_count": 10,
   "metadata": {},
   "outputs": [
    {
     "data": {
      "text/plain": [
       "id\n",
       "0    1.49\n",
       "1    1.38\n",
       "2    1.76\n",
       "3    1.39\n",
       "4    1.54\n",
       "Name: AveragePrice, dtype: float64"
      ]
     },
     "execution_count": 10,
     "metadata": {},
     "output_type": "execute_result"
    }
   ],
   "source": [
    "y.head()"
   ]
  },
  {
   "cell_type": "markdown",
   "metadata": {},
   "source": [
    "# Regression Time!\n",
    "Choosing the best model: https://medium.com/@kefortney/10-machine-learning-flavors-in-sklearn-948206342da2"
   ]
  },
  {
   "cell_type": "code",
   "execution_count": 11,
   "metadata": {},
   "outputs": [],
   "source": [
    "# Sci Kit Learn! Scientific Computing library for python\n",
    "from sklearn import *"
   ]
  },
  {
   "cell_type": "code",
   "execution_count": 12,
   "metadata": {},
   "outputs": [
    {
     "name": "stdout",
     "output_type": "stream",
     "text": [
      "training split:  8941 ; test split:  3833\n"
     ]
    }
   ],
   "source": [
    "# Split training into some for training and some for testing\n",
    "# https://scikit-learn.org/stable/modules/generated/sklearn.model_selection.train_test_split.html\n",
    "\"\"\"\n",
    "70-30 rule\n",
    "\"\"\"\n",
    "r_state = 2020 #Set to constant for selection of model, else choose None\n",
    "\n",
    "Xtrain, Xtest, ytrain, ytest = model_selection.train_test_split(X, y, test_size=0.3)\n",
    "\n",
    "print(\"training split: \", len(Xtrain), \"; test split: \", len(Xtest))\n",
    "\n"
   ]
  },
  {
   "cell_type": "code",
   "execution_count": 13,
   "metadata": {},
   "outputs": [],
   "source": [
    "# Pick the regression model we want to use\n",
    "\n",
    "# Linear Regression\n",
    "# https://scikit-learn.org/stable/modules/generated/sklearn.linear_model.LinearRegression.html\n",
    "# model = linear_model.LinearRegression()\n",
    "\n",
    "# Decision Tree Regression\n",
    "# https://scikit-learn.org/stable/modules/generated/sklearn.tree.DecisionTreeRegressor.html\n",
    "# model = tree.DecisionTreeRegressor(random_state=r_state)\n",
    "\n",
    "# Random Forest Regression\n",
    "# https://scikit-learn.org/stable/modules/generated/sklearn.ensemble.RandomForestRegressor.html\n",
    "model = ensemble.RandomForestRegressor(random_state=r_state, n_estimators=500) #Test with n_estimators=100 for crude comparison"
   ]
  },
  {
   "cell_type": "code",
   "execution_count": 14,
   "metadata": {},
   "outputs": [
    {
     "data": {
      "text/plain": [
       "RandomForestRegressor(bootstrap=True, ccp_alpha=0.0, criterion='mse',\n",
       "                      max_depth=None, max_features='auto', max_leaf_nodes=None,\n",
       "                      max_samples=None, min_impurity_decrease=0.0,\n",
       "                      min_impurity_split=None, min_samples_leaf=1,\n",
       "                      min_samples_split=2, min_weight_fraction_leaf=0.0,\n",
       "                      n_estimators=500, n_jobs=None, oob_score=False,\n",
       "                      random_state=2020, verbose=0, warm_start=False)"
      ]
     },
     "execution_count": 14,
     "metadata": {},
     "output_type": "execute_result"
    }
   ],
   "source": [
    "# Perform regression on the data\n",
    "model.fit(Xtrain, ytrain) # Xtrain, ytrain  for training X, y after you sure you not overfitting"
   ]
  },
  {
   "cell_type": "code",
   "execution_count": 15,
   "metadata": {},
   "outputs": [
    {
     "data": {
      "image/png": "[encoded data removed]",
      "text/plain": [
       "<Figure size 432x432 with 1 Axes>"
      ]
     },
     "metadata": {
      "needs_background": "light"
     },
     "output_type": "display_data"
    }
   ],
   "source": [
    "# Plot the model\n",
    "\"\"\"\n",
    "The graph should look linear.\n",
    "\"\"\"\n",
    "import numpy as np \n",
    "\n",
    "pred = model.predict(Xtest)\n",
    "plt.figure(figsize=(6,6))\n",
    "plt.scatter(x=ytest,y=pred)\n",
    "x = np.linspace(min(min(ytest), min(pred)), max(max(ytest),max(pred)))\n",
    "plt.plot(x, x, color='red')\n",
    "plt.xlabel('Actual Y')\n",
    "plt.ylabel('Predicted Y')\n",
    "plt.draw()"
   ]
  },
  {
   "cell_type": "code",
   "execution_count": 16,
   "metadata": {},
   "outputs": [
    {
     "name": "stdout",
     "output_type": "stream",
     "text": [
      "MAE: 0.09183755283068097\n",
      "MSE: 0.01686725412940255\n",
      "RMSE: 0.12987399327580001\n"
     ]
    }
   ],
   "source": [
    "#Analyse the models to choose the best one.\n",
    "\"\"\"\n",
    "Lower the RMSE, the better.\n",
    "\"\"\"\n",
    "import numpy as np\n",
    "print('MAE:', metrics.mean_absolute_error(ytest, pred))\n",
    "print('MSE:', metrics.mean_squared_error(ytest, pred))\n",
    "print('RMSE:', np.sqrt(metrics.mean_squared_error(ytest, pred)))\n",
    "\n",
    "#Simple analytics\n",
    "# model.score(Xtest, ytest)"
   ]
  },
  {
   "cell_type": "code",
   "execution_count": 17,
   "metadata": {},
   "outputs": [
    {
     "data": {
      "image/png": "[encoded data removed]",
      "text/plain": [
       "<Figure size 432x288 with 1 Axes>"
      ]
     },
     "metadata": {
      "needs_background": "light"
     },
     "output_type": "display_data"
    }
   ],
   "source": [
    "# Distribution plot\n",
    "\"\"\"\n",
    "The residuals should look normally distributed for a good model.\n",
    "\"\"\"\n",
    "sns.distplot((ytest-pred),bins=50)\n",
    "plt.draw()"
   ]
  },
  {
   "cell_type": "markdown",
   "metadata": {},
   "source": [
    "# Predict for Testing data"
   ]
  },
  {
   "cell_type": "code",
   "execution_count": 18,
   "metadata": {},
   "outputs": [
    {
     "data": {
      "text/html": [
       "<div>\n",
       "<style scoped>\n",
       "    .dataframe tbody tr th:only-of-type {\n",
       "        vertical-align: middle;\n",
       "    }\n",
       "\n",
       "    .dataframe tbody tr th {\n",
       "        vertical-align: top;\n",
       "    }\n",
       "\n",
       "    .dataframe thead th {\n",
       "        text-align: right;\n",
       "    }\n",
       "</style>\n",
       "<table border=\"1\" class=\"dataframe\">\n",
       "  <thead>\n",
       "    <tr style=\"text-align: right;\">\n",
       "      <th></th>\n",
       "      <th>DataBatch</th>\n",
       "      <th>Date</th>\n",
       "      <th>TotalVolume</th>\n",
       "      <th>4046</th>\n",
       "      <th>4225</th>\n",
       "      <th>4770</th>\n",
       "      <th>TotalBags</th>\n",
       "      <th>SmallBags</th>\n",
       "      <th>LargeBags</th>\n",
       "      <th>XLargeBags</th>\n",
       "      <th>type</th>\n",
       "      <th>region</th>\n",
       "    </tr>\n",
       "    <tr>\n",
       "      <th>id</th>\n",
       "      <th></th>\n",
       "      <th></th>\n",
       "      <th></th>\n",
       "      <th></th>\n",
       "      <th></th>\n",
       "      <th></th>\n",
       "      <th></th>\n",
       "      <th></th>\n",
       "      <th></th>\n",
       "      <th></th>\n",
       "      <th></th>\n",
       "      <th></th>\n",
       "    </tr>\n",
       "  </thead>\n",
       "  <tbody>\n",
       "    <tr>\n",
       "      <th>0</th>\n",
       "      <td>21</td>\n",
       "      <td>2016-07-31</td>\n",
       "      <td>28969.34</td>\n",
       "      <td>80.77</td>\n",
       "      <td>27361.91</td>\n",
       "      <td>0.00</td>\n",
       "      <td>1526.66</td>\n",
       "      <td>1526.66</td>\n",
       "      <td>0.00</td>\n",
       "      <td>0.00</td>\n",
       "      <td>organic</td>\n",
       "      <td>Chicago</td>\n",
       "    </tr>\n",
       "    <tr>\n",
       "      <th>1</th>\n",
       "      <td>19</td>\n",
       "      <td>2017-08-20</td>\n",
       "      <td>322962.89</td>\n",
       "      <td>5632.85</td>\n",
       "      <td>242365.82</td>\n",
       "      <td>2441.56</td>\n",
       "      <td>72522.66</td>\n",
       "      <td>22942.48</td>\n",
       "      <td>46083.51</td>\n",
       "      <td>3496.67</td>\n",
       "      <td>conventional</td>\n",
       "      <td>NorthernNewEngland</td>\n",
       "    </tr>\n",
       "    <tr>\n",
       "      <th>2</th>\n",
       "      <td>49</td>\n",
       "      <td>2017-01-22</td>\n",
       "      <td>155334.45</td>\n",
       "      <td>3657.79</td>\n",
       "      <td>74068.65</td>\n",
       "      <td>0.00</td>\n",
       "      <td>77608.01</td>\n",
       "      <td>27302.29</td>\n",
       "      <td>50305.72</td>\n",
       "      <td>0.00</td>\n",
       "      <td>organic</td>\n",
       "      <td>GreatLakes</td>\n",
       "    </tr>\n",
       "    <tr>\n",
       "      <th>3</th>\n",
       "      <td>12</td>\n",
       "      <td>2015-10-04</td>\n",
       "      <td>10231.74</td>\n",
       "      <td>341.89</td>\n",
       "      <td>8519.00</td>\n",
       "      <td>0.00</td>\n",
       "      <td>1370.85</td>\n",
       "      <td>303.33</td>\n",
       "      <td>1067.52</td>\n",
       "      <td>0.00</td>\n",
       "      <td>organic</td>\n",
       "      <td>CincinnatiDayton</td>\n",
       "    </tr>\n",
       "    <tr>\n",
       "      <th>4</th>\n",
       "      <td>10</td>\n",
       "      <td>2015-10-18</td>\n",
       "      <td>10652.02</td>\n",
       "      <td>6905.95</td>\n",
       "      <td>39.52</td>\n",
       "      <td>0.00</td>\n",
       "      <td>3706.55</td>\n",
       "      <td>3706.55</td>\n",
       "      <td>0.00</td>\n",
       "      <td>0.00</td>\n",
       "      <td>organic</td>\n",
       "      <td>Houston</td>\n",
       "    </tr>\n",
       "  </tbody>\n",
       "</table>\n",
       "</div>"
      ],
      "text/plain": [
       "    DataBatch        Date  TotalVolume     4046       4225     4770  \\\n",
       "id                                                                    \n",
       "0          21  2016-07-31     28969.34    80.77   27361.91     0.00   \n",
       "1          19  2017-08-20    322962.89  5632.85  242365.82  2441.56   \n",
       "2          49  2017-01-22    155334.45  3657.79   74068.65     0.00   \n",
       "3          12  2015-10-04     10231.74   341.89    8519.00     0.00   \n",
       "4          10  2015-10-18     10652.02  6905.95      39.52     0.00   \n",
       "\n",
       "    TotalBags  SmallBags  LargeBags  XLargeBags          type  \\\n",
       "id                                                              \n",
       "0     1526.66    1526.66       0.00        0.00       organic   \n",
       "1    72522.66   22942.48   46083.51     3496.67  conventional   \n",
       "2    77608.01   27302.29   50305.72        0.00       organic   \n",
       "3     1370.85     303.33    1067.52        0.00       organic   \n",
       "4     3706.55    3706.55       0.00        0.00       organic   \n",
       "\n",
       "                region  \n",
       "id                      \n",
       "0              Chicago  \n",
       "1   NorthernNewEngland  \n",
       "2           GreatLakes  \n",
       "3     CincinnatiDayton  \n",
       "4              Houston  "
      ]
     },
     "execution_count": 18,
     "metadata": {},
     "output_type": "execute_result"
    }
   ],
   "source": [
    "# Load Data\n",
    "AvoTest = pd.read_csv('avocado-test.csv', index_col='id')\n",
    "AvoTest.head()"
   ]
  },
  {
   "cell_type": "code",
   "execution_count": 19,
   "metadata": {},
   "outputs": [],
   "source": [
    "# Clean Data\n",
    "\n",
    "# Drops missing values \n",
    "AvoTest = AvoTest.dropna()\n",
    "\n",
    "# Convert strings to numbers\n",
    "AvoTest.Date = [dt.date.fromisoformat(x).toordinal() for x in AvoTest.Date]\n",
    "\n",
    "AvoTest.type = [AvoTypes[x] for x in AvoTest.type]\n",
    "\n",
    "AvoTest.region = [AvoRegion[x] for x in AvoTest.region]\n",
    "\n",
    "# Read more advanced ways to clean data\n",
    "# https://scikit-learn.org/stable/modules/generated/sklearn.preprocessing.LabelEncoder.html\n",
    "# https://stackoverflow.com/questions/24458645/label-encoding-across-multiple-columns-in-scikit-learn"
   ]
  },
  {
   "cell_type": "code",
   "execution_count": 20,
   "metadata": {},
   "outputs": [
    {
     "data": {
      "text/html": [
       "<div>\n",
       "<style scoped>\n",
       "    .dataframe tbody tr th:only-of-type {\n",
       "        vertical-align: middle;\n",
       "    }\n",
       "\n",
       "    .dataframe tbody tr th {\n",
       "        vertical-align: top;\n",
       "    }\n",
       "\n",
       "    .dataframe thead th {\n",
       "        text-align: right;\n",
       "    }\n",
       "</style>\n",
       "<table border=\"1\" class=\"dataframe\">\n",
       "  <thead>\n",
       "    <tr style=\"text-align: right;\">\n",
       "      <th></th>\n",
       "      <th>Date</th>\n",
       "      <th>TotalVolume</th>\n",
       "      <th>DataBatch</th>\n",
       "      <th>type</th>\n",
       "      <th>4046</th>\n",
       "      <th>4225</th>\n",
       "      <th>4770</th>\n",
       "      <th>TotalBags</th>\n",
       "      <th>SmallBags</th>\n",
       "      <th>LargeBags</th>\n",
       "      <th>XLargeBags</th>\n",
       "      <th>type</th>\n",
       "      <th>region</th>\n",
       "    </tr>\n",
       "    <tr>\n",
       "      <th>id</th>\n",
       "      <th></th>\n",
       "      <th></th>\n",
       "      <th></th>\n",
       "      <th></th>\n",
       "      <th></th>\n",
       "      <th></th>\n",
       "      <th></th>\n",
       "      <th></th>\n",
       "      <th></th>\n",
       "      <th></th>\n",
       "      <th></th>\n",
       "      <th></th>\n",
       "      <th></th>\n",
       "    </tr>\n",
       "  </thead>\n",
       "  <tbody>\n",
       "    <tr>\n",
       "      <th>0</th>\n",
       "      <td>736176</td>\n",
       "      <td>28969.34</td>\n",
       "      <td>21</td>\n",
       "      <td>1</td>\n",
       "      <td>80.77</td>\n",
       "      <td>27361.91</td>\n",
       "      <td>0.00</td>\n",
       "      <td>1526.66</td>\n",
       "      <td>1526.66</td>\n",
       "      <td>0.00</td>\n",
       "      <td>0.00</td>\n",
       "      <td>1</td>\n",
       "      <td>48</td>\n",
       "    </tr>\n",
       "    <tr>\n",
       "      <th>1</th>\n",
       "      <td>736561</td>\n",
       "      <td>322962.89</td>\n",
       "      <td>19</td>\n",
       "      <td>0</td>\n",
       "      <td>5632.85</td>\n",
       "      <td>242365.82</td>\n",
       "      <td>2441.56</td>\n",
       "      <td>72522.66</td>\n",
       "      <td>22942.48</td>\n",
       "      <td>46083.51</td>\n",
       "      <td>3496.67</td>\n",
       "      <td>0</td>\n",
       "      <td>5</td>\n",
       "    </tr>\n",
       "    <tr>\n",
       "      <th>2</th>\n",
       "      <td>736351</td>\n",
       "      <td>155334.45</td>\n",
       "      <td>49</td>\n",
       "      <td>1</td>\n",
       "      <td>3657.79</td>\n",
       "      <td>74068.65</td>\n",
       "      <td>0.00</td>\n",
       "      <td>77608.01</td>\n",
       "      <td>27302.29</td>\n",
       "      <td>50305.72</td>\n",
       "      <td>0.00</td>\n",
       "      <td>1</td>\n",
       "      <td>23</td>\n",
       "    </tr>\n",
       "    <tr>\n",
       "      <th>3</th>\n",
       "      <td>735875</td>\n",
       "      <td>10231.74</td>\n",
       "      <td>12</td>\n",
       "      <td>1</td>\n",
       "      <td>341.89</td>\n",
       "      <td>8519.00</td>\n",
       "      <td>0.00</td>\n",
       "      <td>1370.85</td>\n",
       "      <td>303.33</td>\n",
       "      <td>1067.52</td>\n",
       "      <td>0.00</td>\n",
       "      <td>1</td>\n",
       "      <td>2</td>\n",
       "    </tr>\n",
       "    <tr>\n",
       "      <th>4</th>\n",
       "      <td>735889</td>\n",
       "      <td>10652.02</td>\n",
       "      <td>10</td>\n",
       "      <td>1</td>\n",
       "      <td>6905.95</td>\n",
       "      <td>39.52</td>\n",
       "      <td>0.00</td>\n",
       "      <td>3706.55</td>\n",
       "      <td>3706.55</td>\n",
       "      <td>0.00</td>\n",
       "      <td>0.00</td>\n",
       "      <td>1</td>\n",
       "      <td>42</td>\n",
       "    </tr>\n",
       "  </tbody>\n",
       "</table>\n",
       "</div>"
      ],
      "text/plain": [
       "      Date  TotalVolume  DataBatch  type     4046       4225     4770  \\\n",
       "id                                                                      \n",
       "0   736176     28969.34         21     1    80.77   27361.91     0.00   \n",
       "1   736561    322962.89         19     0  5632.85  242365.82  2441.56   \n",
       "2   736351    155334.45         49     1  3657.79   74068.65     0.00   \n",
       "3   735875     10231.74         12     1   341.89    8519.00     0.00   \n",
       "4   735889     10652.02         10     1  6905.95      39.52     0.00   \n",
       "\n",
       "    TotalBags  SmallBags  LargeBags  XLargeBags  type  region  \n",
       "id                                                             \n",
       "0     1526.66    1526.66       0.00        0.00     1      48  \n",
       "1    72522.66   22942.48   46083.51     3496.67     0       5  \n",
       "2    77608.01   27302.29   50305.72        0.00     1      23  \n",
       "3     1370.85     303.33    1067.52        0.00     1       2  \n",
       "4     3706.55    3706.55       0.00        0.00     1      42  "
      ]
     },
     "execution_count": 20,
     "metadata": {},
     "output_type": "execute_result"
    }
   ],
   "source": [
    "# Select features\n",
    "XforPredictions = AvoTest[features]\n",
    "XforPredictions.head()"
   ]
  },
  {
   "cell_type": "code",
   "execution_count": 21,
   "metadata": {},
   "outputs": [
    {
     "name": "stdout",
     "output_type": "stream",
     "text": [
      "Predictions: [1.83882 1.60462 1.2566  ... 1.45532 1.80802 1.59026]\n"
     ]
    }
   ],
   "source": [
    "# Make Predictions!\n",
    "yPredictions = model.predict(XforPredictions)\n",
    "print(\"Predictions:\", yPredictions)"
   ]
  },
  {
   "cell_type": "code",
   "execution_count": 22,
   "metadata": {},
   "outputs": [
    {
     "name": "stdout",
     "output_type": "stream",
     "text": [
      "        id AveragePrice\n",
      "0        0         1.84\n",
      "1        1         1.60\n",
      "2        2         1.26\n",
      "3        3         1.55\n",
      "4        4         1.44\n",
      "...    ...          ...\n",
      "5470  5470         1.80\n",
      "5471  5471         1.44\n",
      "5472  5472         1.46\n",
      "5473  5473         1.81\n",
      "5474  5474         1.59\n",
      "\n",
      "[5475 rows x 2 columns]\n"
     ]
    }
   ],
   "source": [
    "# Save to CSV File!\n",
    "output = pd.DataFrame({'id': XforPredictions.index, 'AveragePrice': yPredictions})\n",
    "output['AveragePrice'] = [f\"{x:.2f}\" for x in output[\"AveragePrice\"]] #Format to same number of d.p/ s.f. as train data\n",
    "output.to_csv('avocado-submission.csv', index=False)\n",
    "print(output)"
   ]
  },
  {
   "cell_type": "markdown",
   "metadata": {},
   "source": [
    "# Upload for grading"
   ]
  },
  {
   "cell_type": "code",
   "execution_count": 23,
   "metadata": {},
   "outputs": [
    {
     "name": "stdout",
     "output_type": "stream",
     "text": [
      "Downloaded pyctfsglib.py: True\n"
     ]
    }
   ],
   "source": [
    "# Download CTFSG Grader Libraries\n",
    "import urllib.request, os\n",
    "urllib.request.urlretrieve('https://raw.githubusercontent.com/alttablabs/ctfsg-utils/master/pyctfsglib.py', './pyctfsglib.py')\n",
    "print('Downloaded pyctfsglib.py:', 'pyctfsglib.py' in os.listdir())"
   ]
  },
  {
   "cell_type": "code",
   "execution_count": 24,
   "metadata": {},
   "outputs": [
    {
     "name": "stdout",
     "output_type": "stream",
     "text": [
      "DSGraderClient: Successfully Connected!\n",
      "[SERVER] MOTD: CHECK your USER_TOKEN and GRADER_URL HTTP address! I'm AVOCADO_PRICE GRADER_be64ff40591f\n"
     ]
    }
   ],
   "source": [
    "# Connect to graders\n",
    "import pyctfsglib as ctfsg\n",
    "import random\n",
    "\n",
    "USER_TOKEN = \"bsmZpjHmOHygqXWFAPNdoXgJKUQbrxBsYDVOddoNCNTsjlZRJMhmSEiVrOHqAauL\" # You need to fill this up\n",
    "GRADER_URL = random.choice([\n",
    "\"http://challenges.csdc20t.ctf.sg:30001/\", \"http://challenges.csdc20t.ctf.sg:30002/\"\n",
    "])\n",
    "\n",
    "grader = ctfsg.DSGraderClient(GRADER_URL, USER_TOKEN)"
   ]
  },
  {
   "cell_type": "code",
   "execution_count": 25,
   "metadata": {},
   "outputs": [
    {
     "name": "stdout",
     "output_type": "stream",
     "text": [
      "ProofOfWork Challenge =>  ('CTFSGRB6f934dcfcfde854ebe7781660fdf884f', 22)\n",
      "ProofOfWork Answer Found! =>  3090590\n"
     ]
    }
   ],
   "source": [
    "x = grader.submitFile('avocado-submission.csv')"
   ]
  },
  {
   "cell_type": "code",
   "execution_count": 26,
   "metadata": {},
   "outputs": [
    {
     "data": {
      "text/plain": [
       "448.75"
      ]
     },
     "execution_count": 26,
     "metadata": {},
     "output_type": "execute_result"
    }
   ],
   "source": [
    "#Compute correctness\n",
    "MAX_SCORE = 500\n",
    "x=eval(x)\n",
    "x['multiplier'] * MAX_SCORE"
   ]
  },
  {
   "cell_type": "code",
   "execution_count": null,
   "metadata": {},
   "outputs": [],
   "source": []
  }
 ],
 "metadata": {
  "kernelspec": {
   "display_name": "Python 3",
   "language": "python",
   "name": "python3"
  },
  "language_info": {
   "codemirror_mode": {
    "name": "ipython",
    "version": 3
   },
   "file_extension": ".py",
   "mimetype": "text/x-python",
   "name": "python",
   "nbconvert_exporter": "python",
   "pygments_lexer": "ipython3",
   "version": "3.6.4"
  }
 },
 "nbformat": 4,
 "nbformat_minor": 2
}
